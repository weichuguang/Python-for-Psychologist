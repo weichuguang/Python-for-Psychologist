{
 "cells": [
  {
   "cell_type": "markdown",
   "id": "c7709340-4e66-4f88-b04e-1226ddec6e58",
   "metadata": {},
   "source": [
    "# Python for psychologist"
   ]
  },
  {
   "cell_type": "code",
   "execution_count": null,
   "id": "baa9cfd8-cad3-436a-b4af-87ef80f3b73e",
   "metadata": {},
   "outputs": [],
   "source": [
    "\"\"\"\n",
    "The script is used for python training, \n",
    "which is written by Chuguang Wei \n",
    "weicg@psych.ac.cn 8-Dec-2024\n",
    "\"\"\"\n",
    "print('Hello, Python!')"
   ]
  },
  {
   "cell_type": "markdown",
   "id": "98530bc2-0885-4cb7-8a09-12fe2c0f8ea4",
   "metadata": {},
   "source": [
    "### Indentation"
   ]
  },
  {
   "cell_type": "code",
   "execution_count": null,
   "id": "1ce6ac21-07f7-465a-8c08-464e15586b9a",
   "metadata": {},
   "outputs": [],
   "source": [
    "print('Hello')\n",
    " # print('Python!')\n",
    "for i in range(10):\n",
    "    print(i)"
   ]
  },
  {
   "cell_type": "markdown",
   "id": "3d478848-2ed7-4fa0-8aed-dd25c5bae10f",
   "metadata": {},
   "source": [
    "## Define-rules of Variables  "
   ]
  },
  {
   "cell_type": "code",
   "execution_count": null,
   "id": "b230bd33-4492-41ec-a9a1-ae7de8e693df",
   "metadata": {},
   "outputs": [],
   "source": [
    "feedbackMessage = '按键正确'\n",
    "subject_name_one = 'zhangsan'\n",
    "sub1,sub2,sub3 = 'zhangsan','lisi','wangwu'\n",
    "subName,reaction_time,correctRate='lisi',0.98,0.88\n",
    "subjectNameTwo='lisi'"
   ]
  },
  {
   "cell_type": "code",
   "execution_count": null,
   "id": "cd6518b6-6844-48c5-a337-85a3a984740d",
   "metadata": {},
   "outputs": [],
   "source": [
    "print(sub1)\n",
    "subjectNameTwo"
   ]
  },
  {
   "cell_type": "markdown",
   "id": "df8940f6-d063-4aad-b76e-77de60e92149",
   "metadata": {},
   "source": [
    "## list keyword"
   ]
  },
  {
   "cell_type": "code",
   "execution_count": null,
   "id": "45618970-f0a0-4eee-8f9c-69db2736d6a5",
   "metadata": {},
   "outputs": [],
   "source": [
    "import keyword\n",
    "keyword.kwlist\n",
    "len(keyword.kwlist)\n",
    "keyword.iskeyword('if')\n",
    "keyword.iskeyword('f')"
   ]
  },
  {
   "cell_type": "markdown",
   "id": "69e22b12-d80a-496c-b62b-c8e32f6758fa",
   "metadata": {},
   "source": [
    "## string"
   ]
  },
  {
   "cell_type": "code",
   "execution_count": null,
   "id": "61a934e0-0eaf-477b-bfe1-c3134cba4193",
   "metadata": {},
   "outputs": [],
   "source": [
    "subjectName='zhangsan'\n",
    "print(subjectName)\n",
    "gender=\"male\"\n",
    "print(gender)\n",
    "msg1=\"He's zhangsan\"\n",
    "print(msg1)\n",
    "msg2='Bruce Eckel said:\"Life is short, you need Python.\" '\n",
    "print(msg2)"
   ]
  },
  {
   "cell_type": "markdown",
   "id": "f83d22e4-54da-4de4-8fbb-ae6280e570b7",
   "metadata": {},
   "source": [
    "### Escape character \\转义符"
   ]
  },
  {
   "cell_type": "code",
   "execution_count": null,
   "id": "c2a45b6b-cb69-4c3d-84df-520795862fc2",
   "metadata": {},
   "outputs": [],
   "source": [
    "msg3='I\\'m weicg'\n",
    "msg4='He said:\"That\\'s right.\"'\n",
    "print(msg3)\n",
    "print(msg4)\n",
    "\n",
    "file_path_mac='/Users/wei/Desktop/1.TXT' # MAC\n",
    "file_path_win='\\\\Users\\\\wei\\\\Desktop\\\\1.TXT' # Windows\n",
    "file_path_win=r'\\Users\\wei\\Desktop\\1.TXT' # Windows\n",
    "\n",
    "print(file_path)\n"
   ]
  },
  {
   "cell_type": "markdown",
   "id": "95973c0f-ab19-4adb-91d5-e3638795e3ed",
   "metadata": {},
   "source": [
    "### Tab & newline charactert"
   ]
  },
  {
   "cell_type": "code",
   "execution_count": null,
   "id": "8a1aa099-851e-4ee4-b7ac-40cd12651592",
   "metadata": {},
   "outputs": [],
   "source": [
    "languages = '我喜欢的语言有：\\nPython\\nMatlab'\n",
    "print(languages)\n",
    "\n",
    "tools = '我喜欢的工具有：\\tPsychoPy\\tpsychtoolbox'\n",
    "print(tools)\n",
    "\n",
    "tools = '我喜欢的工具有：\\n\\tPsychoPy\\n\\tpsychtoolbox'\n",
    "print(tools)"
   ]
  },
  {
   "cell_type": "markdown",
   "id": "ae3f2118-fe35-440f-bec0-7cfaf5e671c3",
   "metadata": {},
   "source": [
    "### Concatenation & index"
   ]
  },
  {
   "cell_type": "code",
   "execution_count": null,
   "id": "505115f4-f717-44b4-9c2e-2b0d6b0cd86c",
   "metadata": {},
   "outputs": [],
   "source": [
    "key_press = '按键'\n",
    "result = \"正确\"\n",
    "feedback_msg = key_press+result\n",
    "feedback_msg = key_press+':'+result\n",
    "feedback_msg = key_press+':\\n'+result\n",
    "feedback_msg = key_press+':\\n'+result+'!'\n",
    "# feedback_msg = result*3\n",
    "\n",
    "print(feedback_msg)\n",
    "print(feedback_msg[:])\n",
    "print(feedback_msg[1:5])"
   ]
  },
  {
   "cell_type": "markdown",
   "id": "5d406e29-cf45-4d3b-8389-66ad41214b15",
   "metadata": {},
   "source": [
    "### Upper, lower() & title()"
   ]
  },
  {
   "cell_type": "code",
   "execution_count": null,
   "id": "e9047e16-f8b2-4b1a-84a9-ad414439e553",
   "metadata": {},
   "outputs": [],
   "source": [
    "name = \" chuguang wei \"\n",
    "name.lstrip()\n",
    "name.rstrip()\n",
    "name.upper()\n",
    "name.lower()\n",
    "press_key = 'f'\n",
    "press_key.upper()\n",
    "name.title()\n",
    "\n",
    "eeg001 = 'eeg 001'.replace(' ','')\n",
    "print(eeg001)\n",
    "\n"
   ]
  },
  {
   "cell_type": "markdown",
   "id": "c58b1d38-6520-4759-a699-24233b10ec5d",
   "metadata": {},
   "source": [
    "### startswith() & endswith()"
   ]
  },
  {
   "cell_type": "code",
   "execution_count": null,
   "id": "f015f3d8-4a70-4970-90b7-f1334c1731bd",
   "metadata": {},
   "outputs": [],
   "source": [
    "import os\n",
    "curr_path = r'C:\\Users\\lenovo\\Desktop\\Python_PsychoPy_MNE-Python线上'\n",
    "print(os.listdir(curr_path))\n",
    "txt_file = [file for file in os.listdir(curr_path) if file.endswith('.txt')]\n",
    "print(txt_file)\n",
    "matlab_file = [file for file in os.listdir(curr_path) if file.startswith('MATLAB')]\n",
    "print(matlab_file)\n"
   ]
  },
  {
   "cell_type": "markdown",
   "id": "39950dbf-e45d-4261-92dc-a8356afebae2",
   "metadata": {},
   "source": [
    "### Batch process"
   ]
  },
  {
   "cell_type": "code",
   "execution_count": null,
   "id": "ccaea032-33ef-4ca5-9358-27f56e30d2fc",
   "metadata": {},
   "outputs": [],
   "source": [
    "from PIL import Image\n",
    "import os\n",
    "path=r'C:\\Users\\lenovo\\Desktop\\Python_PsychoPy_MNE-Python线上'\n",
    "for file in matlab_file:\n",
    "    img = Image.open(os.path.join(path,file))\n",
    "    # img.show()\n",
    "    img.convert('RGB').save(os.path.join(path, file[0:7]+'.JPEG'))"
   ]
  },
  {
   "cell_type": "markdown",
   "id": "bea34886-8b50-442c-ae98-1abaf2283575",
   "metadata": {},
   "source": [
    "### isdigit() isalpha() isalnum()"
   ]
  },
  {
   "cell_type": "code",
   "execution_count": null,
   "id": "b4d752dc-a182-464e-a0c2-9de312b83518",
   "metadata": {},
   "outputs": [],
   "source": [
    "string = '1'\n",
    "string = 'a'\n",
    "# string = 'a1'\n",
    "print(string.isdigit())\n",
    "print(string.isalpha())\n",
    "print(string.isalnum())"
   ]
  },
  {
   "cell_type": "markdown",
   "id": "6fa4a447-440e-4e4c-b98b-4c087f7e68d2",
   "metadata": {},
   "source": [
    "### int"
   ]
  },
  {
   "cell_type": "code",
   "execution_count": null,
   "id": "dbb28428-72a9-4da4-8b46-4c20f8a778a6",
   "metadata": {},
   "outputs": [],
   "source": [
    "a = 9\n",
    "b = 2\n",
    "a + b\n",
    "a * b\n",
    "a / b\n",
    "a ** 2\n",
    "a % 2\n",
    "a // 2"
   ]
  },
  {
   "cell_type": "markdown",
   "id": "b7a60d34-157c-47a9-8f7a-3b7a7ff8eaf2",
   "metadata": {},
   "source": [
    "### float"
   ]
  },
  {
   "cell_type": "code",
   "execution_count": null,
   "id": "da93f4ce-397d-4def-b355-73c7d59d394d",
   "metadata": {},
   "outputs": [],
   "source": [
    "a = 0.1\n",
    "b = 0.2\n",
    "a + b # 0.1和0.2在二进制下是无限循环小数，计算机只能截取一定的精度来存储，从而导致计算结果的微小偏差。\n",
    "from math import pi\n",
    "pi\n",
    "round(pi,3)\n",
    "rt = 0.8889\n",
    "round(rt,3)\n"
   ]
  },
  {
   "cell_type": "markdown",
   "id": "2ac2bb7f-a469-417a-bafb-539092759181",
   "metadata": {},
   "source": [
    "### concatenation"
   ]
  },
  {
   "cell_type": "code",
   "execution_count": null,
   "id": "498d46b6-cdf9-43a1-9b08-aef0378d1b3a",
   "metadata": {},
   "outputs": [],
   "source": [
    "# feedback_msg='反应是：'+ rt\n",
    "# feedback_msg='反应是：'+ 2\n",
    "# feedback_msg='反应是：'+ str(2)\n",
    "\n",
    "# feedback_msg='反应是：'+ str(rt)\n",
    "# feedback_msg='反应是：\\n'+ str(rt)\n",
    "print(feedback_msg) #需要print才能换行"
   ]
  },
  {
   "cell_type": "markdown",
   "id": "53dfad45-85d7-4fbc-a960-dc26d3c4d65b",
   "metadata": {},
   "source": [
    "### Bool"
   ]
  },
  {
   "cell_type": "code",
   "execution_count": null,
   "id": "bd8e1bac-da92-4a36-a72b-14236b81a911",
   "metadata": {},
   "outputs": [],
   "source": [
    "type(True)\n",
    "type(False)\n",
    "True + 1\n",
    "False + 1\n",
    "5>3\n",
    "# 1 == 2-1\n",
    "# 4 <= 4-1\n",
    "5 > 10\n",
    "# tool1 = 'psychopy'\n",
    "# tool2 = 'psychtoolbox'\n",
    "# tool1[:5] == tool2[:5]\n",
    "# tool1[:6] == tool2[:6]\n",
    "\n",
    "# 'psych' in tool1\n",
    "# 'psychtool' in tool1\n",
    "# 'psychtool' not in tool1\n",
    "type('string') == str \n",
    "type(1) == int "
   ]
  },
  {
   "cell_type": "markdown",
   "id": "0e0e6fcc-b037-4f45-ad59-cad1c09e4db4",
   "metadata": {},
   "source": [
    "### format output"
   ]
  },
  {
   "cell_type": "code",
   "execution_count": null,
   "id": "1bfbb09d-c555-4c59-b569-c495c41d2bcb",
   "metadata": {},
   "outputs": [],
   "source": [
    "######## % ############\n",
    "trial_N = '试次是：%d次'%2\n",
    "trial_N\n",
    "feedback_msg = '反应：%s\\n反应时：%.3f秒'%('正确',0.123456)\n",
    "feedback_msg = '反应：%s\\n反应时：%f秒'%('正确',round(0.123456,3))\n",
    "######### .format ###########\n",
    "feedback_msg = '反应：{}\\n反应时：{}秒'.format('错误',round(0.123456,3))\n",
    "feedback_msg = '反应：{corr}\\n反应时：{rt}秒'.format(rt=round(0.123456,3),corr='正确')\n",
    "######## f string ##########\n",
    "corr='Incorrect'\n",
    "rt = 0.1234567\n",
    "feedback_msg = f'反应：{corr}\\n反应时：{round(rt,3)}秒'\n",
    "feedback_msg = f'反应：{corr}\\n反应时：{rt:.3f}秒'\n",
    "feedback_msg"
   ]
  },
  {
   "cell_type": "code",
   "execution_count": null,
   "id": "0bce6852-9ba4-43cc-aada-a6ab024c76b6",
   "metadata": {},
   "outputs": [],
   "source": [
    "round(0.123456,2)"
   ]
  },
  {
   "cell_type": "markdown",
   "id": "2b43e60f-7e3d-414e-b8b8-291dfa2dfc80",
   "metadata": {},
   "source": [
    "### Built-in function"
   ]
  },
  {
   "cell_type": "code",
   "execution_count": null,
   "id": "3d14d999-cd69-4088-b6be-8f5eacd0abe8",
   "metadata": {},
   "outputs": [],
   "source": [
    "### str() int() float() range()\n",
    "# int('123') + 3\n",
    "# str(123) + '3'\n",
    "# float(1)\n",
    "\n",
    "# # len() input()\n",
    "# len('123')\n",
    "# # len(0)\n",
    "# sub_age = input('请输入年龄：\\n')\n",
    "# sub_age\n",
    "# type(sub_age)\n",
    "\n",
    "# x = range(10)\n",
    "# x = range(1,11)\n",
    "# x = range(1,11,2)\n",
    "# for i in x:\n",
    "#     print(i)\n",
    "\n",
    "# dir(__builtin__)\n",
    "# help(len)\n",
    "# help(str)"
   ]
  },
  {
   "cell_type": "markdown",
   "id": "19fa2e2f-82fc-4ce9-9486-27a976e304d9",
   "metadata": {},
   "source": [
    "## List"
   ]
  },
  {
   "cell_type": "markdown",
   "id": "f76e2992-5ce2-4ada-b74a-78190d7dd332",
   "metadata": {},
   "source": [
    "### Define"
   ]
  },
  {
   "cell_type": "code",
   "execution_count": null,
   "id": "7b750d73-bcd0-4f63-a70b-00d3f5791808",
   "metadata": {},
   "outputs": [],
   "source": [
    "# blank_list = []\n",
    "# blank_list\n",
    "\n",
    "# sub_info = ['zhangsan', 23,'male',0.123]\n",
    "# sub_info\n",
    "\n",
    "# letter_list = list('abcdefghi')\n",
    "# print(letter_list)\n",
    "# str_num_list = list('123456789')\n",
    "# print(str_num_list)\n",
    "# num_list = list(range(1,11))\n",
    "# print(num_list)\n",
    "\n",
    "# num_list = [1,2,3,4,5,6,7,8,9]\n",
    "# num_list\n",
    "\n",
    "# num_list = list(range(1,10))\n",
    "# num_list\n",
    "\n",
    "num_list_square = [i**2 for i in num_list]\n",
    "print(num_list_square)\n",
    "\n",
    "odd_num_list_square = [i**2 for i in num_list if i % 2 == 1]\n",
    "print(odd_num_list_square)\n",
    "\n",
    "letter_list_copy = [i*2 for i in letter_list]\n",
    "print(letter_list_copy)\n",
    "\n",
    "sub_list = ['sub'+ str(i) for i in num_list ]\n",
    "print(sub_list)\n",
    "\n",
    "file_list = [i + '.xlsx' for i in sub_list]\n",
    "print(file_list)"
   ]
  },
  {
   "cell_type": "markdown",
   "id": "7f6cbf8c-dd69-4846-b42f-7243a1f445c9",
   "metadata": {},
   "source": [
    "### Index"
   ]
  },
  {
   "cell_type": "code",
   "execution_count": null,
   "id": "a228513f-80a5-4421-92e5-5f7609625a38",
   "metadata": {},
   "outputs": [],
   "source": [
    "num_list = [1,2,3,4,5,6,7,8,9]\n",
    "num_list.index(1)\n",
    "# num_list.index(9)\n",
    "# num_list[:]\n",
    "# num_list[1]\n",
    "# # num_list[9]\n",
    "# num_list[1:50]# 50可以\n",
    "# num_list[:5]\n",
    "# num_list[3:]\n",
    "# num_list[::2]\n",
    "# num_list[3:8:2]\n",
    "\n",
    "# num_list[-1]\n",
    "# num_list[-9:-1] # 不包含 -1位置的元素\n",
    "# # num_list[-1:-9] # 空列表\n",
    "# num_list[-9:-1:2] # [1, 3, 5, 7]\n",
    "\n",
    "num_list.count(9)\n"
   ]
  },
  {
   "cell_type": "markdown",
   "id": "5ff279a7-d747-4af0-8fc3-57a704a8dd30",
   "metadata": {},
   "source": [
    "### sort"
   ]
  },
  {
   "cell_type": "code",
   "execution_count": null,
   "id": "6c7471dd-ab50-4452-bb82-c786b7d4c585",
   "metadata": {},
   "outputs": [],
   "source": [
    "num_list = [2,36,4,1,0]\n",
    "num_list\n",
    "num_list.sort(reverse=True)\n",
    "num_list\n",
    "\n",
    "str_list = ['df','rr','aa', 'Bc']\n",
    "str_list\n",
    "str_list.sort(reverse=True)\n",
    "str_list\n",
    "len(str_list)"
   ]
  },
  {
   "cell_type": "markdown",
   "id": "44e0a0ec-675e-4dcc-8b58-063af04da852",
   "metadata": {},
   "source": [
    "### modify list"
   ]
  },
  {
   "cell_type": "code",
   "execution_count": null,
   "id": "d8eecb95-b931-47d7-8050-caf6f6ca2969",
   "metadata": {},
   "outputs": [],
   "source": [
    "list1 = list('abcdef')\n",
    "list1"
   ]
  },
  {
   "cell_type": "code",
   "execution_count": null,
   "id": "068e3b27-6a62-48ec-9e28-30244cc28d1e",
   "metadata": {},
   "outputs": [],
   "source": [
    "list1[1] = 6\n",
    "list1"
   ]
  },
  {
   "cell_type": "code",
   "execution_count": null,
   "id": "b0e792c6-e1b6-4ba1-a1d8-6c3f52146071",
   "metadata": {},
   "outputs": [],
   "source": [
    "list1[-2] = 22\n",
    "num_list"
   ]
  },
  {
   "cell_type": "code",
   "execution_count": null,
   "id": "b2ee79ae-11db-4c91-9aaf-471fdc13dba3",
   "metadata": {},
   "outputs": [],
   "source": [
    "list1[0:2] = [1,2]\n",
    "list1\n"
   ]
  },
  {
   "cell_type": "code",
   "execution_count": null,
   "id": "10eeb064-6a39-432e-a4b7-5aa2d65e2455",
   "metadata": {},
   "outputs": [],
   "source": [
    "list1.append('Python')\n",
    "list1\n",
    "list1.append('matlab')\n",
    "list1"
   ]
  },
  {
   "cell_type": "code",
   "execution_count": null,
   "id": "acad2547-478a-4593-ad34-f51c089fa69f",
   "metadata": {},
   "outputs": [],
   "source": [
    "list2 = [1,2,3,4]\n",
    "list3 = list1.extend(list2) # XXXXXXXXXXXXX\n",
    "list1 = list1[:10]\n",
    "list1"
   ]
  },
  {
   "cell_type": "code",
   "execution_count": null,
   "id": "582969c0-c739-49d6-8afc-8f5c5cd9b083",
   "metadata": {},
   "outputs": [],
   "source": [
    "del list1[-1]\n",
    "list1"
   ]
  },
  {
   "cell_type": "code",
   "execution_count": null,
   "id": "10d50bb0-891a-4d01-9ca4-501204a22c45",
   "metadata": {},
   "outputs": [],
   "source": [
    "d = list1.pop(-1)\n",
    "print(d)\n",
    "list1"
   ]
  },
  {
   "cell_type": "code",
   "execution_count": null,
   "id": "f5b14baf-8f6b-4dd4-afc3-8d45f4e12346",
   "metadata": {},
   "outputs": [],
   "source": [
    "list1.append(6)\n",
    "list1\n",
    "list1.remove(6)\n",
    "list1"
   ]
  },
  {
   "cell_type": "code",
   "execution_count": null,
   "id": "11805d6d-744e-4c62-82e8-79f20705ba99",
   "metadata": {},
   "outputs": [],
   "source": [
    "for i in list1:\n",
    "    print(i*2)"
   ]
  },
  {
   "cell_type": "code",
   "execution_count": null,
   "id": "b916ab39-ba4a-4a45-a01d-c4593d4ed02a",
   "metadata": {},
   "outputs": [],
   "source": [
    "num_list = list(range(11))\n",
    "sum(list1)"
   ]
  },
  {
   "cell_type": "code",
   "execution_count": null,
   "id": "d1207626-b967-485e-972c-00dc41cd5813",
   "metadata": {},
   "outputs": [],
   "source": [
    "num_list\n",
    "str_list\n",
    "num_str_list=list(zip(num_list,str_list))\n",
    "num_str_list\n",
    "num_list_enumerate = list(enumerate(num_list))\n",
    "num_list_enumerate"
   ]
  },
  {
   "cell_type": "markdown",
   "id": "4fceee7d-7c2e-488b-9278-9cd3ddbb687c",
   "metadata": {},
   "source": [
    "### tuple"
   ]
  },
  {
   "cell_type": "code",
   "execution_count": null,
   "id": "c70c03bb-8ead-4713-9068-c13cf30ac494",
   "metadata": {},
   "outputs": [],
   "source": [
    "tuple1 = (1,2,3)\n",
    "tuple1\n",
    "tuple1[0] = 2"
   ]
  },
  {
   "cell_type": "code",
   "execution_count": null,
   "id": "5726708d-3bb2-49fd-a1d1-e4d0627ace0c",
   "metadata": {},
   "outputs": [],
   "source": [
    "tuple_expression = tuple((i for i in range(1,11)))\n",
    "tuple_expression"
   ]
  },
  {
   "cell_type": "markdown",
   "id": "b1926fba-8fb1-4020-a9b9-6d2922dedbc7",
   "metadata": {},
   "source": [
    "## set"
   ]
  },
  {
   "cell_type": "code",
   "execution_count": null,
   "id": "9dc71023-78f4-4124-a4a7-121855c115c8",
   "metadata": {},
   "outputs": [],
   "source": [
    "blank_set = set()\n",
    "blank_set\n",
    "set1 = {1,2,2,2,1,'a','a'}\n",
    "set1\n",
    "set_expression = set((i for i in range(1,11)))\n",
    "set_expression"
   ]
  },
  {
   "cell_type": "markdown",
   "id": "19a269de-11e9-4ce3-86bf-88b5e522caac",
   "metadata": {},
   "source": [
    "### Dictionary"
   ]
  },
  {
   "cell_type": "code",
   "execution_count": null,
   "id": "456fdfa1-671a-4b0b-bc7d-b40cec6f38fb",
   "metadata": {},
   "outputs": [],
   "source": [
    "blank_dict = {}\n",
    "blank_dict\n",
    "dict1 = {'sub_name':'zhangsan','sub_age':20, 'sub_gender':'Male'}\n",
    "dict1\n",
    "dict2 = dict(sub_name='lisi',sub_age = 30, sub_gender = 'Female')\n",
    "dict2\n",
    "key = list('abcdef')\n",
    "value = list(range(1,7))\n",
    "\n",
    "dict3 = dict(zip(key,value))\n",
    "dict3"
   ]
  },
  {
   "cell_type": "code",
   "execution_count": null,
   "id": "c0a17db8-4964-4c72-b589-9edc78ae0a27",
   "metadata": {},
   "outputs": [],
   "source": [
    "dict1['sub_name']\n",
    "dict2['sub_gender']\n",
    "\n",
    "print(dict3.items())\n",
    "for item in dict3.items():\n",
    "    print(item)\n",
    "\n",
    "for k, v in dict3.items():\n",
    "    print(k,'====>',v)\n",
    "print(dict3.keys())\n",
    "\n",
    "for k in dict3.keys():\n",
    "    print(k)\n",
    "\n",
    "print(dict3.values())\n",
    "for v in dict3.values():\n",
    "    print(v)\n",
    "\n"
   ]
  },
  {
   "cell_type": "code",
   "execution_count": 97,
   "id": "d21fa9d1-d95f-4130-a0c3-8c8ed071dda2",
   "metadata": {},
   "outputs": [
    {
     "data": {
      "text/plain": [
       "'C:\\\\Users\\\\lenovo\\\\Desktop\\\\Python_PsychoPy_MNE-Python线上'"
      ]
     },
     "execution_count": 97,
     "metadata": {},
     "output_type": "execute_result"
    }
   ],
   "source": [
    "import os\n",
    "os.getcwd()"
   ]
  },
  {
   "cell_type": "code",
   "execution_count": 96,
   "id": "39542cca-d5c2-4744-8176-cd7d70e952b8",
   "metadata": {},
   "outputs": [
    {
     "name": "stdout",
     "output_type": "stream",
     "text": [
      "('item3', 3)\n",
      "{'item1': 1, 'item2': 2}\n"
     ]
    }
   ],
   "source": [
    "inventory = {'item1': 1, 'item2': 2, 'item3': 3}\n",
    "pop_item = inventory.popitem()\n",
    "print(pop_item)\n",
    "print(inventory)"
   ]
  },
  {
   "cell_type": "code",
   "execution_count": 92,
   "id": "b3754f02-4595-4e81-b1e7-58e6e004689d",
   "metadata": {},
   "outputs": [
    {
     "ename": "KeyError",
     "evalue": "2",
     "output_type": "error",
     "traceback": [
      "\u001b[1;31m---------------------------------------------------------------------------\u001b[0m",
      "\u001b[1;31mKeyError\u001b[0m                                  Traceback (most recent call last)",
      "Cell \u001b[1;32mIn[92], line 4\u001b[0m\n\u001b[0;32m      2\u001b[0m dict3\n\u001b[0;32m      3\u001b[0m \u001b[38;5;66;03m# del dict3['a']\u001b[39;00m\n\u001b[1;32m----> 4\u001b[0m \u001b[43mdict3\u001b[49m\u001b[43m[\u001b[49m\u001b[38;5;241;43m2\u001b[39;49m\u001b[43m]\u001b[49m\n",
      "\u001b[1;31mKeyError\u001b[0m: 2"
     ]
    }
   ],
   "source": [
    "dict3['a'] = 111\n",
    "dict3\n",
    "del dict3['a']\n",
    "dict3"
   ]
  },
  {
   "cell_type": "code",
   "execution_count": null,
   "id": "6d2ee640-e656-417c-b6cc-3e5df2ca18da",
   "metadata": {},
   "outputs": [],
   "source": [
    "list_list = [list('abcde'),list(range(5))]\n",
    "list_list[1][1]\n",
    "\n",
    "dict_dict = {'dict1':dict1,'dict2':dict2}\n",
    "dict_dict['dict1'].items()\n",
    "\n",
    "dict_dict = dict(dict1=dict1,dict2=dict2)\n",
    "dict_dict\n",
    "\n",
    "list_dict = [dict1,dict2]\n",
    "list_dict[1]\n",
    "\n",
    "dict_list = {'list1':list('abcde'),'list2':list(range(5))}\n",
    "dict_list\n",
    "\n",
    "dict_list['list1'][-2]\n"
   ]
  },
  {
   "cell_type": "markdown",
   "id": "975b9abc-5147-4599-ada9-304be62fcd3e",
   "metadata": {},
   "source": [
    "### expr for x in collection if condition"
   ]
  },
  {
   "cell_type": "code",
   "execution_count": null,
   "id": "db74a8a0-fddb-459e-8c60-b5c28fc6064c",
   "metadata": {},
   "outputs": [],
   "source": [
    "sum(x for x in range(1,101))\n",
    "sum(x for x in range(1,101) if x %2 ==0)\n",
    "sum(x for x in range(1,101) if x %2 ==1)\n",
    "\n",
    "exp_list = [x**2 for x in range(1,101)]\n",
    "exp_list\n",
    "\n",
    "num_square = {num: num ** 2 for num in range(1, 6)}\n",
    "print(num_square)\n",
    "expression_dict = {key:val for key, val in zip(list('abcd'),list('1234'))}\n",
    "print(expression_dict)\n",
    "\n",
    "# exp_set = {i for i in '1234323abcbabbbbcbcbbc'}\n",
    "# exp_set"
   ]
  },
  {
   "cell_type": "markdown",
   "id": "5f8285a9-cb99-4910-86a5-94f4905ef4e2",
   "metadata": {},
   "source": [
    "### zip()"
   ]
  },
  {
   "cell_type": "code",
   "execution_count": null,
   "id": "94e1e2da-11ce-4823-a4b6-dbbb7af48199",
   "metadata": {},
   "outputs": [],
   "source": [
    "str1 = 'abc'\n",
    "str2 = '123'\n",
    "print(list(zip(str1,str2)))\n",
    "list1 = list('abcdefgh')\n",
    "list2 = ['一','二','三','四','五','六']\n",
    "list3 = list(range(1,11))\n",
    "print(list(zip(list1,list2)))\n",
    "print(tuple(zip(list1,list3)))\n",
    "print((list(zip(list1,list2,list3))))\n",
    "sub_info = ['name','age','gender']\n",
    "sub1 = ['zhangsan',25,'Male']\n",
    "sub1_info = list(zip(sub_info,sub1))\n",
    "print(sub1_info)"
   ]
  },
  {
   "cell_type": "markdown",
   "id": "055a62e9-8c2a-4d88-9084-5ccc7c156a2d",
   "metadata": {},
   "source": [
    "### Control flow"
   ]
  },
  {
   "cell_type": "markdown",
   "id": "01f4ee2b-7bd1-47cd-afa0-3b7365532aaa",
   "metadata": {},
   "source": [
    "#### if"
   ]
  },
  {
   "cell_type": "code",
   "execution_count": null,
   "id": "41a31854-5d54-451b-ba43-71dc4154bcc2",
   "metadata": {},
   "outputs": [],
   "source": [
    "key = 'f'\n",
    "if key.lower() == 'f':\n",
    "    feedback_msg = 'Correct!'\n",
    "else:\n",
    "    feedback_msg = 'Incorrect!'\n",
    "feedback_msg"
   ]
  },
  {
   "cell_type": "code",
   "execution_count": null,
   "id": "42ec75d5-212f-4d59-bda4-cd678e29f98b",
   "metadata": {},
   "outputs": [],
   "source": [
    "feedback_msg=[]\n",
    "rt = 0.5\n",
    "if rt > 0.8:\n",
    "    feedback_msg = 'Not good!'\n",
    "elif rt > 0.7:\n",
    "    feedback_msg = 'Good!'\n",
    "elif rt > 0.5:\n",
    "    feedback_msg = 'Great!'\n",
    "else:\n",
    "    feedback_msg = 'Excellent!'\n",
    "\n",
    "feedback_msg\n",
    "    "
   ]
  },
  {
   "cell_type": "markdown",
   "id": "7c72a902-70da-413a-944e-7f49881431be",
   "metadata": {},
   "source": [
    "### for"
   ]
  },
  {
   "cell_type": "code",
   "execution_count": null,
   "id": "1d0d80f2-418c-4e72-b8ac-d3cd85384da2",
   "metadata": {},
   "outputs": [],
   "source": [
    "file_list = ['sub'+str(i) + '.xlsx' for i in list(range(1,11))]\n",
    "file_list\n",
    "print(rt)\n",
    "import os\n",
    "import numpy as np\n",
    "import random\n",
    "print(os.getcwd())\n",
    "for file in file_list:\n",
    "    creat_file = open(file,'w')\n",
    "    rt = [random.random() for i in range(10)]\n",
    "    for j in rt:\n",
    "        creat_file.write(str(round(j,3)))\n",
    "        creat_file.write('\\n')\n",
    "    \n",
    "    creat_file.close()\n",
    "    "
   ]
  },
  {
   "cell_type": "code",
   "execution_count": null,
   "id": "b2432c0e-ebdd-47de-a6c1-bd69fabdab09",
   "metadata": {},
   "outputs": [],
   "source": [
    "import random\n",
    "random_list = [random.random() for i in range(10)]\n",
    "print(random_list)"
   ]
  },
  {
   "cell_type": "markdown",
   "id": "ac19a0aa-5a96-464f-9f3b-7cec7cb9ea7e",
   "metadata": {},
   "source": [
    "#### while"
   ]
  },
  {
   "cell_type": "code",
   "execution_count": null,
   "id": "66b27902-a6f0-4414-92b3-c495a7f965ab",
   "metadata": {},
   "outputs": [],
   "source": [
    "n = 1\n",
    "while n < 11:\n",
    "    print(n)\n",
    "    n += 1 \n",
    "else:\n",
    "    print('程序结束')"
   ]
  },
  {
   "cell_type": "code",
   "execution_count": null,
   "id": "4fefebc9-7e25-47bf-a399-e03e807d5cd3",
   "metadata": {},
   "outputs": [],
   "source": [
    "n = 1\n",
    "while n < 11:\n",
    "    print(n)\n",
    "    n += 1 \n",
    "    if n > 5:\n",
    "        break\n",
    "else:\n",
    "    print('程序结束')"
   ]
  },
  {
   "cell_type": "code",
   "execution_count": null,
   "id": "19b5e84c-969c-4265-bb5b-b1a4f93abc32",
   "metadata": {},
   "outputs": [],
   "source": [
    "n = 1\n",
    "while n < 11:\n",
    "    print(n)\n",
    "    \n",
    "else:\n",
    "    print()\n",
    "    "
   ]
  },
  {
   "cell_type": "markdown",
   "id": "cf94d0c8-51ef-4e9d-abee-4be77549442d",
   "metadata": {},
   "source": [
    "### continue"
   ]
  },
  {
   "cell_type": "code",
   "execution_count": null,
   "id": "35c96f03-a3fa-4dd6-95ba-e63773517a97",
   "metadata": {},
   "outputs": [],
   "source": [
    "n = 0\n",
    "while n < 11:\n",
    "    n += 1\n",
    "    if n % 2 ==0:\n",
    "        print(n,'是偶数')\n",
    "        continue     \n",
    "    else:\n",
    "        print(n,'是奇数数')"
   ]
  },
  {
   "cell_type": "markdown",
   "id": "99540b25-cb7e-4d11-acf2-5635777ef817",
   "metadata": {},
   "source": [
    "# function"
   ]
  },
  {
   "cell_type": "markdown",
   "id": "b09d1ce9-f594-4fc5-b652-56e728f572e7",
   "metadata": {},
   "source": [
    "## lambda()"
   ]
  },
  {
   "cell_type": "code",
   "execution_count": null,
   "id": "c6a65719-c5d1-4878-8ea2-03655943d77b",
   "metadata": {},
   "outputs": [],
   "source": [
    "f = (lambda x,y,z: x*2 + y - z)(2,3,1)\n",
    "f\n",
    "\n",
    "feedback_msg = (lambda corr, rt: '反应：'+ corr + '\\n反应时:' + str(rt))('正确',0.234)\n",
    "print(feedback_msg)"
   ]
  },
  {
   "cell_type": "markdown",
   "id": "8c7c69f9-9f84-46e0-a2cf-5838884b44f8",
   "metadata": {},
   "source": [
    "## def "
   ]
  },
  {
   "cell_type": "code",
   "execution_count": 28,
   "id": "f063b885-e788-4751-b9ab-177aa2526fc0",
   "metadata": {},
   "outputs": [
    {
     "data": {
      "text/plain": [
       "'你好weicg,欢迎参加实验！'"
      ]
     },
     "execution_count": 28,
     "metadata": {},
     "output_type": "execute_result"
    }
   ],
   "source": [
    "def greetings(name):\n",
    "    msg = f\"你好{name},欢迎参加实验！\"\n",
    "    return msg\n",
    "greetings('weicg')"
   ]
  },
  {
   "cell_type": "code",
   "execution_count": 2,
   "id": "c79deec7-e57c-4e80-97bc-e6d66860c9a3",
   "metadata": {},
   "outputs": [
    {
     "name": "stdout",
     "output_type": "stream",
     "text": [
      "你好，WEICG\n",
      "欢迎参加实验！\n"
     ]
    }
   ],
   "source": [
    "def greetings(name):\n",
    "    print('你好，'+ name.upper() + '\\n欢迎参加实验！')\n",
    "greetings('weicg')"
   ]
  },
  {
   "cell_type": "code",
   "execution_count": 3,
   "id": "af7653c4-3cc6-48ff-a058-a3499730048c",
   "metadata": {},
   "outputs": [
    {
     "name": "stdout",
     "output_type": "stream",
     "text": [
      "你好，WEICG\n",
      "欢迎参加行为实验！\n"
     ]
    }
   ],
   "source": [
    "def greetings(name, exp):\n",
    "    print('你好，'+ name.upper() + '\\n欢迎参加' + exp+ '实验！')\n",
    "greetings('weicg','行为')"
   ]
  },
  {
   "cell_type": "code",
   "execution_count": 6,
   "id": "0df1a087-3baf-4620-93f5-0117709dc26c",
   "metadata": {},
   "outputs": [
    {
     "name": "stdout",
     "output_type": "stream",
     "text": [
      "zhangsan:25 Male\n"
     ]
    }
   ],
   "source": [
    "def sub_info(name,age,gender):\n",
    "    sub = name + ':'+str(age) +' ' + gender\n",
    "    print(sub)\n",
    "sub_info(age=25,gender='Male',name='zhangsan')"
   ]
  },
  {
   "cell_type": "code",
   "execution_count": null,
   "id": "559d19ce-afce-43c8-a95a-a76b6629a603",
   "metadata": {},
   "outputs": [],
   "source": [
    "def get_sub_info(name,age,gender):\n",
    "    sub_info = name + str(age) + gender\n",
    "    return sub_info\n",
    "sub1 = get_sub_info('weicg ',35,' male')\n",
    "sub1"
   ]
  },
  {
   "cell_type": "code",
   "execution_count": null,
   "id": "9989f5fd-5f8f-42a6-8581-d9a2133e1ac8",
   "metadata": {},
   "outputs": [],
   "source": [
    "def get_sub_info(name,age,gender):\n",
    "    sub_info = [name, age, gender]\n",
    "    return sub_info\n",
    "sub1 = get_sub_info('weicg',35,'male')\n",
    "sub1"
   ]
  },
  {
   "cell_type": "code",
   "execution_count": null,
   "id": "c26ca135-d639-4816-b986-6602062f7a5e",
   "metadata": {},
   "outputs": [],
   "source": [
    "def get_sub_info(name,age,gender):\n",
    "    sub_info = dict(name=name, age=age, gender=gender)\n",
    "    return sub_info\n",
    "sub1 = get_sub_info('weicg',35,'male')\n",
    "sub1"
   ]
  },
  {
   "cell_type": "code",
   "execution_count": 14,
   "id": "650f4930-cc23-4cc4-99ff-1daf7d6355e5",
   "metadata": {},
   "outputs": [
    {
     "name": "stdout",
     "output_type": "stream",
     "text": [
      "6\n"
     ]
    }
   ],
   "source": [
    "def sum_numbers(*a):\n",
    "    print(sum(a))\n",
    "sum_numbers(1,2,3)"
   ]
  },
  {
   "cell_type": "code",
   "execution_count": 25,
   "id": "6492f536-8071-4472-b9f6-7d49360667a3",
   "metadata": {},
   "outputs": [
    {
     "data": {
      "text/plain": [
       "'你好weicg,欢迎参加实验！'"
      ]
     },
     "execution_count": 25,
     "metadata": {},
     "output_type": "execute_result"
    }
   ],
   "source": [
    "def greetings(name):\n",
    "    msg = f\"你好{name},欢迎参加实验！\"\n",
    "    return msg\n",
    "greetings('weicg')"
   ]
  },
  {
   "cell_type": "code",
   "execution_count": 19,
   "id": "96fff133-ca58-4dd6-ace0-1c831bad3c00",
   "metadata": {
    "scrolled": true
   },
   "outputs": [
    {
     "name": "stdout",
     "output_type": "stream",
     "text": [
      "name: zhangsan\n",
      "age: 25\n",
      "gender: Male\n",
      "ww: 88\n"
     ]
    }
   ],
   "source": [
    "def sub_info(**kwargs):\n",
    "    for key, value in kwargs.items():\n",
    "        print(f\"{key}: {value}\")\n",
    "sub_info(name='zhangsan',age=25,gender='Male',ww=88)"
   ]
  },
  {
   "cell_type": "code",
   "execution_count": 9,
   "id": "3fea78fa-b4c1-4a40-b812-8f6d26d1fe32",
   "metadata": {},
   "outputs": [
    {
     "name": "stdout",
     "output_type": "stream",
     "text": [
      "{'name': 'weicg', 'age': 35, 'gender': 'male', 'city': 'Shanghai'}\n"
     ]
    }
   ],
   "source": [
    "def sub_info(name,age,gender,city='Beijing'):\n",
    "    sub = dict(name=name, age=age, gender=gender,city=city)\n",
    "    print(sub)\n",
    "sub_info('weicg',35,'male','Shanghai')\n"
   ]
  },
  {
   "cell_type": "code",
   "execution_count": 7,
   "id": "4545d731-18a8-426c-8a01-c32305b6f05d",
   "metadata": {},
   "outputs": [
    {
     "data": {
      "text/plain": [
       "{'name': 'weicg', 'age': 35, 'gender': 'male', 'city': 'Beijing'}"
      ]
     },
     "execution_count": 7,
     "metadata": {},
     "output_type": "execute_result"
    }
   ],
   "source": [
    "def get_sub_info(name,age,gender,city='Beijing'):\n",
    "    sub_info = dict(name=name, age=age, gender=gender,city=city)\n",
    "    return sub_info\n",
    "sub1 = get_sub_info('weicg',35,'male')\n",
    "sub1"
   ]
  },
  {
   "cell_type": "code",
   "execution_count": null,
   "id": "9aa15aab-f369-4f5e-9991-5a081d3548ef",
   "metadata": {},
   "outputs": [],
   "source": [
    "def get_sub_info(name,age,gender,city='Beijing',add_info=''):\n",
    "    if add_info:\n",
    "        sub_info = dict(name=name, age=age, gender=gender,city=city,add_info=add_info)\n",
    "    else:\n",
    "        sub_info = dict(name=name, age=age, gender=gender,city=city)\n",
    "    return sub_info\n",
    "sub1 = get_sub_info('weicg',35,'male')\n",
    "sub1\n",
    "sub1 = get_sub_info('weicg',35,'male','left-handy')\n",
    "sub1"
   ]
  },
  {
   "cell_type": "code",
   "execution_count": null,
   "id": "f148972b-d872-4415-852b-ea9a411854a8",
   "metadata": {},
   "outputs": [],
   "source": []
  }
 ],
 "metadata": {
  "kernelspec": {
   "display_name": "Python 3 (ipykernel)",
   "language": "python",
   "name": "python3"
  },
  "language_info": {
   "codemirror_mode": {
    "name": "ipython",
    "version": 3
   },
   "file_extension": ".py",
   "mimetype": "text/x-python",
   "name": "python",
   "nbconvert_exporter": "python",
   "pygments_lexer": "ipython3",
   "version": "3.12.6"
  }
 },
 "nbformat": 4,
 "nbformat_minor": 5
}
